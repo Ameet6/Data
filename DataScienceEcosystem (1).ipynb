{
 "cells": [
  {
   "cell_type": "markdown",
   "id": "e78eb8e4-b6d5-4573-9f6c-021a9f981716",
   "metadata": {
    "tags": []
   },
   "source": [
    "# H1 Data Science Tools and Ecosystem\n",
    "\n"
   ]
  },
  {
   "cell_type": "markdown",
   "id": "809bfef9-70e6-41af-9d6d-0b6e4897cef3",
   "metadata": {},
   "source": [
    "In this notebook, Data Science Tools and Ecosystem are summarized."
   ]
  },
  {
   "cell_type": "markdown",
   "id": "800fca5c-f26c-43c1-9386-bbf26a2ab188",
   "metadata": {},
   "source": [
    "**Objectives**\n",
    "- R\n",
    "- Python \n",
    "- Ruby \n",
    "- Git\n",
    "- Github\n",
    "- RStudio"
   ]
  },
  {
   "cell_type": "markdown",
   "id": "452a3e79-f562-467c-a8fc-b9bb503ac0a6",
   "metadata": {},
   "source": [
    "Some of the popular languages that Data Scientists use are:\n",
    "1. Python\n",
    "2. R\n",
    "3. Ruby\n",
    "4. Julia\n"
   ]
  },
  {
   "cell_type": "markdown",
   "id": "b0f2d30e-a84d-4383-812b-7919c67c344a",
   "metadata": {},
   "source": [
    "Some of the commonly used libraries used by Data Scientists include:\n",
    "  1.   Scikit-Learn\n",
    "  2.   TensorFlow\n",
    "  3.   Matplotlib\n",
    "  4.   NumPy\n",
    "  5.   Pandas\n",
    "    "
   ]
  },
  {
   "cell_type": "markdown",
   "id": "0927636c-ee36-4e04-acff-315366a0bb54",
   "metadata": {},
   "source": [
    "| Data Science Tools |\n",
    "| --- |\n",
    "| Jupyter Notebook |\n",
    "| Apache Spark |\n",
    "| Python |\n",
    "| R |\n",
    "| MatLab |\n"
   ]
  },
  {
   "cell_type": "markdown",
   "id": "73a21ace-190b-4bdf-85ed-695f2562cccb",
   "metadata": {},
   "source": [
    "# H3 Below are a few examples of evaluating arithmetic expressions in Python\n"
   ]
  },
  {
   "cell_type": "code",
   "execution_count": 9,
   "id": "5ff0ff3f-aa8b-468c-9bad-466f7b58b859",
   "metadata": {
    "tags": []
   },
   "outputs": [
    {
     "name": "stdout",
     "output_type": "stream",
     "text": [
      "17\n"
     ]
    }
   ],
   "source": [
    "print(3 * 4 + 5)\n",
    "# This a simple arithmetic expression to mutiply then add integers."
   ]
  },
  {
   "cell_type": "code",
   "execution_count": 17,
   "id": "31535ef7-46ad-46d0-b752-6ec173ae4418",
   "metadata": {
    "tags": []
   },
   "outputs": [
    {
     "name": "stdout",
     "output_type": "stream",
     "text": [
      "3.3333333333333335\n"
     ]
    }
   ],
   "source": [
    "print (200 / 60)\n",
    "#This will convert 200 minutes to hours by diving by 60."
   ]
  },
  {
   "cell_type": "markdown",
   "id": "75bc7eab-2da9-42b3-80c7-4b744346c79b",
   "metadata": {},
   "source": [
    "# H2 Author\n",
    "Ameet"
   ]
  },
  {
   "cell_type": "code",
   "execution_count": null,
   "id": "6b89b46e-3b3f-45e5-ae38-56e09def8cb9",
   "metadata": {},
   "outputs": [],
   "source": []
  }
 ],
 "metadata": {
  "kernelspec": {
   "display_name": "Python",
   "language": "python",
   "name": "conda-env-python-py"
  },
  "language_info": {
   "codemirror_mode": {
    "name": "ipython",
    "version": 3
   },
   "file_extension": ".py",
   "mimetype": "text/x-python",
   "name": "python",
   "nbconvert_exporter": "python",
   "pygments_lexer": "ipython3",
   "version": "3.7.12"
  }
 },
 "nbformat": 4,
 "nbformat_minor": 5
}
